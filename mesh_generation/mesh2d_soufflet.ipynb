{
 "cells": [
  {
   "cell_type": "code",
   "execution_count": 1,
   "id": "c0309925-29d4-4a49-94d4-61df435a8ab4",
   "metadata": {},
   "outputs": [],
   "source": [
    "# Channel: regular mesh, equilateral triangles\n",
    "# Soufflet et al. 20,10,5 and 2 km meshes.\n",
    "\n",
    "import numpy as np\n",
    "import matplotlib.pyplot as plt"
   ]
  },
  {
   "cell_type": "code",
   "execution_count": 2,
   "id": "c7a5a93e-f3c7-4c5e-877b-9de36cdbc30d",
   "metadata": {},
   "outputs": [],
   "source": [
    "output_dir = '../../meshes/souff_10/'"
   ]
  },
  {
   "cell_type": "code",
   "execution_count": 39,
   "id": "a5d81654-2b4b-49bf-8f5c-82aa8494fabf",
   "metadata": {},
   "outputs": [],
   "source": [
    "dy = 20 * np.sqrt(3) / 2"
   ]
  },
  {
   "cell_type": "code",
   "execution_count": 42,
   "id": "aca3914d-09f3-450b-87e2-ba5fe163322d",
   "metadata": {},
   "outputs": [
    {
     "data": {
      "text/plain": [
       "34.64101615137755"
      ]
     },
     "execution_count": 42,
     "metadata": {},
     "output_type": "execute_result"
    }
   ],
   "source": [
    "np.sqrt(20**2 - 10**2)*2"
   ]
  },
  {
   "cell_type": "code",
   "execution_count": 20,
   "id": "af48b968-2de2-4a41-be96-201efbc66e9a",
   "metadata": {},
   "outputs": [],
   "source": [
    "# Define the number of levels\n",
    "nl = 41                 # 41 for 10 km, 61 for 5 km\n",
    "H = 4000                # Depth in m\n",
    "alpha = 1.1             # The next layer is alpha times thicker, 1.1 for 10 km, 1.06 for 5 km\n",
    "\n",
    "cyclic_length = 4.5 * 3 # in degrees longittude\n",
    "\n",
    "# Domain size\n",
    "re = 6400               # Earth's radius\n",
    "Lx = cyclic_length * np.pi * re / 180  # In km\n",
    "Ly = 2010  \n",
    "# We ensure that the cyclic_length is 4.5, otherwise it is very close to 500 km of Soufflet et al.\n",
    "\n",
    "# Approximate mesh resolution\n",
    "dx = 10                 # Mesh resolution in km\n",
    "nn = np.floor(Lx / dx)\n",
    "dx = Lx / nn            # dx is close to 10 km, and we have the integer number of intervals within Lx\n",
    "\n",
    "dy = dx * np.sqrt(3) / 2    # Calculate dy based on equilateral triangles\n",
    "nn = np.floor(Ly / dy)\n",
    "dy = Ly / nn            # Adjusted dy to fit evenly into Ly, We ensure that the channel width is exactly Ly\n",
    "\n",
    "# Convert dx and dy to degrees\n",
    "dx_deg = dx * 180 / np.pi / re\n",
    "dy_deg = dy * 180 / np.pi / re\n",
    "\n",
    "# Generate lon and lat arrays\n",
    "lon = np.arange(0, cyclic_length + dx_deg, dx_deg)\n",
    "lat = np.arange(0, 180 * Ly / re / np.pi + dy_deg, dy_deg)\n",
    "\n",
    "nx = len(lon)\n",
    "ny = len(lat)"
   ]
  },
  {
   "cell_type": "code",
   "execution_count": 38,
   "id": "5f04e4cd-3e1e-4f4e-b234-db35be1def5c",
   "metadata": {},
   "outputs": [
    {
     "ename": "AttributeError",
     "evalue": "module 'matplotlib.pyplot' has no attribute 'scater'",
     "output_type": "error",
     "traceback": [
      "\u001b[0;31m---------------------------------------------------------------------------\u001b[0m",
      "\u001b[0;31mAttributeError\u001b[0m                            Traceback (most recent call last)",
      "Cell \u001b[0;32mIn[38], line 1\u001b[0m\n\u001b[0;32m----> 1\u001b[0m plt\u001b[38;5;241m.\u001b[39mscater(lon)\n",
      "\u001b[0;31mAttributeError\u001b[0m: module 'matplotlib.pyplot' has no attribute 'scater'"
     ]
    }
   ],
   "source": []
  },
  {
   "cell_type": "code",
   "execution_count": 24,
   "id": "3c4780c6-b5b1-4212-afed-18918114214b",
   "metadata": {},
   "outputs": [
    {
     "data": {
      "text/plain": [
       "2512.7787117076164"
      ]
     },
     "execution_count": 24,
     "metadata": {},
     "output_type": "execute_result"
    }
   ],
   "source": [
    "(Lx**2 + Ly**2)**0.5"
   ]
  },
  {
   "cell_type": "code",
   "execution_count": 4,
   "id": "4424fab0-ce11-4706-b37e-e6ef5a14900b",
   "metadata": {},
   "outputs": [],
   "source": [
    "# Initialize arrays\n",
    "nodnum = np.arange(1, nx * ny + 1).reshape((ny, nx), order='F') #order important for coloumn shapes\n",
    "\n",
    "xcoord = np.zeros((ny, nx))\n",
    "ycoord = np.zeros((ny, nx))\n",
    "xnum = np.zeros((ny, nx))\n",
    "ynum = np.zeros((ny, nx))\n",
    "\n",
    "# Fill arrays\n",
    "for n in range(nx):\n",
    "    ycoord[:, n] = lat\n",
    "    ynum[:, n] = np.arange(1, ny + 1)\n",
    "\n",
    "for n in range(ny):\n",
    "    xcoord[n, :] = lon\n",
    "    xnum[n, :] = np.arange(1, nx + 1)\n",
    "\n",
    "# Adjust xcoord for every second row\n",
    "for n in range(1, ny, 2):\n",
    "    xcoord[n, :] += 0.5 * dx_deg\n",
    "\n",
    "xcoord = xcoord.reshape((1, nx * ny), order='F')\n",
    "ycoord = ycoord.reshape((1, nx * ny), order='F')"
   ]
  },
  {
   "cell_type": "code",
   "execution_count": 5,
   "id": "66555c22-c56e-4bdf-8099-29c9b8ccea90",
   "metadata": {},
   "outputs": [],
   "source": [
    "# Generate triangular mesh (tri array)\n",
    "tri = []\n",
    "for n in range(nx - 1): #doesnt include nx-1 but therefore 0, replicates 1:n-1 in matlab\n",
    "    for nn in range(0, ny - 1, 2):\n",
    "        tri.append([nodnum[nn, n], nodnum[nn + 1, n], nodnum[nn, n + 1]])\n",
    "        tri.append([nodnum[nn + 1, n], nodnum[nn + 1, n + 1], nodnum[nn, n + 1]])\n",
    "    for nn in range(1, ny - 1, 2):\n",
    "        tri.append([nodnum[nn, n], nodnum[nn + 1, n], nodnum[nn + 1, n + 1]])\n",
    "        tri.append([nodnum[nn, n], nodnum[nn + 1, n + 1], nodnum[nn, n + 1]])\n",
    "\n",
    "tri = np.array(tri)"
   ]
  },
  {
   "cell_type": "code",
   "execution_count": 6,
   "id": "fc567613-d28f-4156-8468-2eb915ba99a3",
   "metadata": {},
   "outputs": [],
   "source": [
    "# Cyclic reduction:\n",
    "# The last ny nodes in xcoord, ycoord are equivalent to the first ny nodes.\n",
    "ai = np.where(tri > (nx - 1) * ny)\n",
    "tri[ai] -= (nx - 1) * ny\n",
    "xcoord = xcoord[0,: (nx - 1) * ny] #xcoords is somehow array in an array\n",
    "ycoord = ycoord[0,: (nx - 1) * ny]\n",
    "\n",
    "# Cyclic reduction means that the last column has to be removed in xnum, ynum\n",
    "xnum = xnum[:, :nx - 1].reshape((ny * (nx - 1), 1), order='F')\n",
    "ynum = ynum[:, :nx - 1].reshape((ny * (nx - 1), 1), order='F')\n",
    "\n",
    "#Fill array \n",
    "n2d = (nx - 1) * ny\n",
    "nodes = np.zeros((4, n2d))\n",
    "nodes[0, :] = np.arange(1, n2d + 1)\n",
    "nodes[1, :] = xcoord\n",
    "nodes[2, :] = ycoord\n",
    "nodes[3, :] = np.zeros_like(ycoord) # zeros_like takes same shape as argument\n",
    "\n",
    "# Set indices to 1 on vertical walls\n",
    "ai = np.where(ycoord == np.min(lat))#[0]\n",
    "nodes[3, ai] = 1\n",
    "ai = np.where(ycoord == np.max(lat))#[0]\n",
    "nodes[3, ai] = 1\n",
    "\n",
    "# Define levels:\n",
    "dz = H * (1 - alpha) / (1 - alpha**(nl - 1)) #dz of the top layer; then alpha*dz,...\n",
    "zbar = np.zeros(nl)\n",
    "zbar[1] = dz\n",
    "for n in range(2, nl):\n",
    "    zbar[n] = zbar[n-1] * alpha\n",
    "\n",
    "for n in range(0, nl-1):\n",
    "    zbar[n+1] = zbar[n] + zbar[n+1]\n",
    "\n",
    "dd = -H * np.ones_like(xcoord)"
   ]
  },
  {
   "cell_type": "code",
   "execution_count": 29,
   "id": "7b6c9337-af17-45e3-92ef-da06524beb45",
   "metadata": {},
   "outputs": [],
   "source": [
    "# Output 2D mesh\n",
    "with open(output_dir + 'nod2d.out', 'w') as fid:\n",
    "    fid.write(f'{n2d:8d}\\n')\n",
    "    for i in range(nodes.shape[1]):\n",
    "        fid.write(f'{int(nodes[0, i]):8d} {nodes[1, i]:8.4f} {nodes[2, i]:8.4f} {int(nodes[3, i]):8d}\\n')"
   ]
  },
  {
   "cell_type": "code",
   "execution_count": 30,
   "id": "b34b40c3-af14-4b77-932c-9883b649d81e",
   "metadata": {},
   "outputs": [],
   "source": [
    "with open(output_dir + 'elem2d.out', 'w') as fid:\n",
    "    fid.write(f'{len(tri[:, 0]):8d}\\n')\n",
    "    for i in range(len(tri)):\n",
    "        fid.write(f'{tri[i, 0]:8d} {tri[i, 1]:8d} {tri[i, 2]:8d}\\n')"
   ]
  },
  {
   "cell_type": "code",
   "execution_count": 31,
   "id": "872cfa4a-13f1-48b8-bf84-28d644b23a29",
   "metadata": {},
   "outputs": [],
   "source": [
    "with open(output_dir + 'aux3d.out', 'w') as fid:\n",
    "    fid.write(f'{nl:g}\\n')\n",
    "    for i in range(len(zbar)):\n",
    "        fid.write(f'{zbar[i]:g}\\n')\n",
    "    for i in range(len(dd)):\n",
    "        fid.write(f'{dd[i]:7.1f}\\n')"
   ]
  }
 ],
 "metadata": {
  "kernelspec": {
   "display_name": "Python 3 (ipykernel)",
   "language": "python",
   "name": "python3"
  },
  "language_info": {
   "codemirror_mode": {
    "name": "ipython",
    "version": 3
   },
   "file_extension": ".py",
   "mimetype": "text/x-python",
   "name": "python",
   "nbconvert_exporter": "python",
   "pygments_lexer": "ipython3",
   "version": "3.11.11"
  }
 },
 "nbformat": 4,
 "nbformat_minor": 5
}
